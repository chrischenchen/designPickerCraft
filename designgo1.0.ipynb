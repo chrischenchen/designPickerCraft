{
 "cells": [
  {
   "cell_type": "code",
   "execution_count": null,
   "metadata": {},
   "outputs": [
    {
     "name": "stdout",
     "output_type": "stream",
     "text": [
      " * Serving Flask app \"__main__\" (lazy loading)\n",
      " * Environment: production\n",
      "   WARNING: This is a development server. Do not use it in a production deployment.\n",
      "   Use a production WSGI server instead.\n",
      " * Debug mode: off\n"
     ]
    },
    {
     "name": "stderr",
     "output_type": "stream",
     "text": [
      " * Running on http://0.0.0.0:5000/ (Press CTRL+C to quit)\n",
      "127.0.0.1 - - [15/Dec/2019 21:18:23] \"GET /api/interviewees HTTP/1.1\" 200 -\n"
     ]
    },
    {
     "name": "stdout",
     "output_type": "stream",
     "text": [
      "This part is different according to which DBMS you use\n",
      "Let's act like we connect to the database during this initiation process...\n",
      "You should use SQL to select records in the data table here\n",
      "Let's assume we succeed...\n"
     ]
    }
   ],
   "source": [
    "from flask import Flask\n",
    "import flask_restful\n",
    "import pymysql\n",
    "\n",
    "# Create an instance of Flask, which is the main backend application in this program\n",
    "app = Flask(__name__)\n",
    "\n",
    "# Create the main entry point using the Flask instance\n",
    "api = flask_restful.Api(app)\n",
    "\n",
    "\n",
    "# Declare a Resource\n",
    "class Interviewees(flask_restful.Resource):\n",
    "    # The function name is \"get\" because you gonna use http method GET to reach this function\n",
    "    def get(self):\n",
    "        db = Connection2DB()\n",
    "        interviewees = db.getIntervieweesFromDB()\n",
    "        return interviewees\n",
    "\n",
    "\n",
    "# The Database part\n",
    "class Connection2DB:\n",
    "    def __init__(self):\n",
    "        print(\"This part is different according to which DBMS you use\")\n",
    "        print(\"Let's act like we connect to the database during this initiation process...\")\n",
    "\n",
    "\n",
    "    def getIntervieweesFromDB(self):\n",
    "        print(\"You should use SQL to select records in the data table here\")\n",
    "        print(\"Let's assume we succeed...\")\n",
    "        conn=pymysql.connect(host = '127.0.0.1' ,user = 'root' ,passwd='designpicker1' ,port= 3306 ,db='test' ,charset='utf8' )\n",
    "        cur = conn.cursor()\n",
    "        cur.execute(\"SELECT * FROM student\")\n",
    "        data = cur.fetchall() \n",
    "        return data\n",
    "\n",
    "\n",
    "# Remember to add the resource to your entrypoint\n",
    "api.add_resource(Interviewees, \"/api/interviewees\")\n",
    "\n",
    "\n",
    "# Run from here\n",
    "if __name__ == \"__main__\":\n",
    "    app.run(\"0.0.0.0\")\n",
    "    app.run(debug=True)"
   ]
  },
  {
   "cell_type": "code",
   "execution_count": null,
   "metadata": {},
   "outputs": [],
   "source": [
    "exit"
   ]
  },
  {
   "cell_type": "code",
   "execution_count": null,
   "metadata": {},
   "outputs": [],
   "source": [
    "exit"
   ]
  },
  {
   "cell_type": "code",
   "execution_count": null,
   "metadata": {},
   "outputs": [],
   "source": [
    "exit"
   ]
  },
  {
   "cell_type": "code",
   "execution_count": null,
   "metadata": {},
   "outputs": [],
   "source": [
    "CTRL+C"
   ]
  },
  {
   "cell_type": "code",
   "execution_count": null,
   "metadata": {},
   "outputs": [],
   "source": []
  },
  {
   "cell_type": "code",
   "execution_count": null,
   "metadata": {},
   "outputs": [],
   "source": []
  }
 ],
 "metadata": {
  "kernelspec": {
   "display_name": "Python 3",
   "language": "python",
   "name": "python3"
  },
  "language_info": {
   "codemirror_mode": {
    "name": "ipython",
    "version": 3
   },
   "file_extension": ".py",
   "mimetype": "text/x-python",
   "name": "python",
   "nbconvert_exporter": "python",
   "pygments_lexer": "ipython3",
   "version": "3.7.3"
  }
 },
 "nbformat": 4,
 "nbformat_minor": 2
}
